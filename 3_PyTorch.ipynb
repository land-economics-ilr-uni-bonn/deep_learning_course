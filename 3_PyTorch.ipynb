{
  "nbformat": 4,
  "nbformat_minor": 0,
  "metadata": {
    "colab": {
      "provenance": [],
      "authorship_tag": "ABX9TyOTix8LVcmMDr2tNVtDMWKK",
      "include_colab_link": true
    },
    "kernelspec": {
      "name": "python3",
      "display_name": "Python 3"
    },
    "language_info": {
      "name": "python"
    }
  },
  "cells": [
    {
      "cell_type": "markdown",
      "metadata": {
        "id": "view-in-github",
        "colab_type": "text"
      },
      "source": [
        "<a href=\"https://colab.research.google.com/github/Wycology/deep_learning_course/blob/main/3_PyTorch.ipynb\" target=\"_parent\"><img src=\"https://colab.research.google.com/assets/colab-badge.svg\" alt=\"Open In Colab\"/></a>"
      ]
    },
    {
      "cell_type": "markdown",
      "source": [
        "# <font color='green'><b> SATELLITE DATA FOR AGRICULTURAL ECONOMISTS</b></font>\n",
        "\n",
        "\n",
        "<font color='blue'><b>THEORY AND PRACTICE</b></font>\n",
        "\n",
        "**_MACHINE & DEEP LEARNING_**\n",
        "\n",
        "\n",
        "*David Wuepper, Hadi Hadi, Wyclife Agumba Oluoch*\n",
        "\n",
        "[Land Economics Group](https://www.ilr1.uni-bonn.de/en/research/research-groups/land-economics), University of Bonn, Bonn, Germany\n",
        "\n",
        "---\n",
        "\n",
        "# **Background**\n",
        "---\n",
        "In this session, we are introducing the use of `PyTorch` in implementing deep learning task. Specifically we will introduce the use of `torchgeo`. According to the authors, `torchgeo` is a `PyTorch` domain library, similar to torchvision, providing **datasets**, **samplers**, **transforms**, and **pre-trained models** specific to **geospatial** data. We will use it to help work with **geospatial** nature of the data being fed into the `PyTorch` modeling framework.\n",
        "\n",
        "We will commence this by installing `torchgeo`. Yes, `torchgeo` is not natively implemented in Google Colab, as opposed to `PyTorch`, so we need to install it.\n",
        "\n",
        "### **What are we going to do here?**\n",
        "\n",
        "We will:\n",
        "1. Import the necessary libraries\n",
        "2. Bring in sample data (which comes with `torchgeo`) to play with\n",
        "3. Load the data (train, eval, test)\n",
        "4. Build the model\n",
        "5. Evaluate the model\n"
      ],
      "metadata": {
        "id": "ikVaTMqUMcuR"
      }
    },
    {
      "cell_type": "code",
      "execution_count": null,
      "metadata": {
        "id": "ooVQ_C6-MIee"
      },
      "outputs": [],
      "source": [
        "%pip install torchgeo # When asked to restart session, do so."
      ]
    },
    {
      "cell_type": "code",
      "source": [
        "pip install azcopy"
      ],
      "metadata": {
        "colab": {
          "base_uri": "https://localhost:8080/"
        },
        "id": "k0EPf4YKyEP3",
        "outputId": "fedc5633-430b-49d6-ca1a-fe8001713d86"
      },
      "execution_count": 4,
      "outputs": [
        {
          "output_type": "stream",
          "name": "stdout",
          "text": [
            "\u001b[31mERROR: Could not find a version that satisfies the requirement azcopy (from versions: none)\u001b[0m\u001b[31m\n",
            "\u001b[0m\u001b[31mERROR: No matching distribution found for azcopy\u001b[0m\u001b[31m\n",
            "\u001b[0m"
          ]
        }
      ]
    },
    {
      "cell_type": "markdown",
      "source": [
        "## **Import libraries**\n",
        "In the next code section, we import all the necessary libraries."
      ],
      "metadata": {
        "id": "5uKvcSQTOrIU"
      }
    },
    {
      "cell_type": "code",
      "source": [
        "import os # For connecting to file path\n",
        "import tempfile # For putting downloaded data to temporary file\n",
        "\n",
        "import random\n",
        "import kornia.augmentation as K # For transforming dataset\n",
        "import torch # For model building\n",
        "from torch import nn, optim # Source of the network and optimization\n",
        "from torch.utils.data import DataLoader, Subset # For loading data from directory\n",
        "\n",
        "from torchgeo.datasets import EuroSAT100, EuroSAT # The dataset to work with\n",
        "from torchgeo.models import ResNet18_Weights, resnet18 # The model weights and model itself\n",
        "\n",
        "torch.manual_seed(248) # For reproducibility"
      ],
      "metadata": {
        "colab": {
          "base_uri": "https://localhost:8080/"
        },
        "id": "qBSRShewNuoo",
        "outputId": "0c161c12-588d-488d-ed38-e26e9991f663"
      },
      "execution_count": 39,
      "outputs": [
        {
          "output_type": "execute_result",
          "data": {
            "text/plain": [
              "<torch._C.Generator at 0x7d7b753c4bf0>"
            ]
          },
          "metadata": {},
          "execution_count": 39
        }
      ]
    },
    {
      "cell_type": "markdown",
      "source": [
        "## **Data**\n",
        "\n",
        "Normally when talking about data in deep learning, we are referring to a combination of both inputs and outputs. Inputs can be like satellite images and outputs are like masks of classes of vegetation. This pair of input and output form dataset on which a model can learn. This dataset can be expressed mathematically as:\n",
        "\n",
        "$D = \\{(x^{(i)}, y^{(i)})\\}_{i=1}^N$\n",
        "\n",
        "This can be explained as dataset $D$ is composed of $N$ pairs of $x$ inputs and $y$ expected outputs. In our case, $x$ are the satellite images and $y$ are the labels for each image in $x$."
      ],
      "metadata": {
        "id": "LlVLOF9qQ64e"
      }
    },
    {
      "cell_type": "markdown",
      "source": [
        "### **Visualize the dataset**\n",
        "\n",
        "We can have a look at some of the images in the dataset. To do that, we will create a place in temporary directory to hold the data, download the data and load it into our session then visualize some random images."
      ],
      "metadata": {
        "id": "DgPT9jjxU81M"
      }
    },
    {
      "cell_type": "code",
      "source": [
        "path = os.path.join(tempfile.gettempdir(), 'eurosat') # Create temporary place to hold data\n",
        "dataset = EuroSAT(path, download = True) # Download data and put in path"
      ],
      "metadata": {
        "id": "RT1-DnT7Q9fs",
        "colab": {
          "base_uri": "https://localhost:8080/"
        },
        "outputId": "e43a6042-a1ec-4f1f-eafa-ddde5bb605f9"
      },
      "execution_count": 9,
      "outputs": [
        {
          "output_type": "stream",
          "name": "stdout",
          "text": [
            "Downloading https://cdn-lfs.hf.co/repos/fc/1d/fc1dee780dee1dae2ad48856d0961ac6aa5dfcaaaa4fb3561be4aedf19b7ccc7/751f070f9bffa2eed48b24ca2dd0b02959280c08837e8c9a5532a67ba611df59?response-content-disposition=inline%3B+filename*%3DUTF-8%27%27EuroSATallBands.zip%3B+filename%3D%22EuroSATallBands.zip%22%3B&response-content-type=application%2Fzip&Expires=1740905168&Policy=eyJTdGF0ZW1lbnQiOlt7IkNvbmRpdGlvbiI6eyJEYXRlTGVzc1RoYW4iOnsiQVdTOkVwb2NoVGltZSI6MTc0MDkwNTE2OH19LCJSZXNvdXJjZSI6Imh0dHBzOi8vY2RuLWxmcy5oZi5jby9yZXBvcy9mYy8xZC9mYzFkZWU3ODBkZWUxZGFlMmFkNDg4NTZkMDk2MWFjNmFhNWRmY2FhYWE0ZmIzNTYxYmU0YWVkZjE5YjdjY2M3Lzc1MWYwNzBmOWJmZmEyZWVkNDhiMjRjYTJkZDBiMDI5NTkyODBjMDg4MzdlOGM5YTU1MzJhNjdiYTYxMWRmNTk%7EcmVzcG9uc2UtY29udGVudC1kaXNwb3NpdGlvbj0qJnJlc3BvbnNlLWNvbnRlbnQtdHlwZT0qIn1dfQ__&Signature=UZOSwBUJ8RX9y7vDzXhlhYFe7Wr-8qu0j9OoGLbfGfm7l4D1m3DWIk6CHwJ3mYN6lV%7ExPI6UtTUiaZnGZPzaSLRUiK30YcJVAkXwt8rip8BhMI85UPnhe%7EMcnbzdEYSoBL27Rgg8zczF4HavBllSCySHR29PeEW3sHItltUec-S8QczPDjVxl3zRSfDE4js8YxNegLmW%7EDt8i%7EHgWL1hDJd7KeVs6qhjlkO4eq0aA7OZwPGTQaY4RtZT0xcuGdzyWKVmYB73yjLaCdWlQeDMexYpLt9naYo3oe1ASTMIplKq0AERdqO2-9aslyCAf8o%7EkF8pKPAPGhgS449ulyCQKQ__&Key-Pair-Id=K3RPWS32NSSJCE to /tmp/eurosat/EuroSATallBands.zip\n"
          ]
        },
        {
          "output_type": "stream",
          "name": "stderr",
          "text": [
            "100%|██████████| 2.07G/2.07G [00:17<00:00, 118MB/s]\n"
          ]
        },
        {
          "output_type": "stream",
          "name": "stdout",
          "text": [
            "Downloading https://huggingface.co/datasets/torchgeo/eurosat/resolve/1ce6f1bfb56db63fd91b6ecc466ea67f2509774c/eurosat-train.txt to /tmp/eurosat/eurosat-train.txt\n"
          ]
        },
        {
          "output_type": "stream",
          "name": "stderr",
          "text": [
            "100%|██████████| 314k/314k [00:00<00:00, 4.20MB/s]\n"
          ]
        },
        {
          "output_type": "stream",
          "name": "stdout",
          "text": [
            "Downloading https://huggingface.co/datasets/torchgeo/eurosat/resolve/1ce6f1bfb56db63fd91b6ecc466ea67f2509774c/eurosat-val.txt to /tmp/eurosat/eurosat-val.txt\n"
          ]
        },
        {
          "output_type": "stream",
          "name": "stderr",
          "text": [
            "100%|██████████| 105k/105k [00:00<00:00, 6.13MB/s]\n"
          ]
        },
        {
          "output_type": "stream",
          "name": "stdout",
          "text": [
            "Downloading https://huggingface.co/datasets/torchgeo/eurosat/resolve/1ce6f1bfb56db63fd91b6ecc466ea67f2509774c/eurosat-test.txt to /tmp/eurosat/eurosat-test.txt\n"
          ]
        },
        {
          "output_type": "stream",
          "name": "stderr",
          "text": [
            "100%|██████████| 104k/104k [00:00<00:00, 5.62MB/s]\n"
          ]
        }
      ]
    },
    {
      "cell_type": "code",
      "source": [
        "# Let us check the number of images we have\n",
        "len(dataset) # 16200"
      ],
      "metadata": {
        "colab": {
          "base_uri": "https://localhost:8080/"
        },
        "id": "X1I2sf-U2ncI",
        "outputId": "9299762c-a5fb-4575-b29b-993d391d4e8e"
      },
      "execution_count": 14,
      "outputs": [
        {
          "output_type": "execute_result",
          "data": {
            "text/plain": [
              "16200"
            ]
          },
          "metadata": {},
          "execution_count": 14
        }
      ]
    },
    {
      "cell_type": "markdown",
      "source": [
        "Now, we have our data downloaded. The data is made is such a way that both $x$ and $y$ are made available and have been split somehow into training, validation and testing sets. We can then have a simple loop through the data to view some of the images."
      ],
      "metadata": {
        "id": "D_82ca8XV4Nc"
      }
    },
    {
      "cell_type": "code",
      "source": [
        "torch.manual_seed(248) # For reproducibility\n",
        "for i in torch.randint(len(dataset), (4,)): # Pick 4 random samples\n",
        "  sample = dataset[i]\n",
        "  dataset.plot(sample) # Plot the images (Industrial, HerbaceusVegetation, Forest, and River)"
      ],
      "metadata": {
        "colab": {
          "base_uri": "https://localhost:8080/",
          "height": 1000
        },
        "id": "-hEMlPG8Vqn1",
        "outputId": "ecb35dc4-95a3-41de-f1d1-b08d7cba6ae2"
      },
      "execution_count": 11,
      "outputs": [
        {
          "output_type": "display_data",
          "data": {
            "text/plain": [
              "<Figure size 400x400 with 1 Axes>"
            ],
            "image/png": "[encoded data removed]"
          },
          "metadata": {}
        },
        {
          "output_type": "display_data",
          "data": {
            "text/plain": [
              "<Figure size 400x400 with 1 Axes>"
            ],
            "image/png": "[encoded data removed]"
          },
          "metadata": {}
        },
        {
          "output_type": "display_data",
          "data": {
            "text/plain": [
              "<Figure size 400x400 with 1 Axes>"
            ],
            "image/png": "[encoded data removed]"
          },
          "metadata": {}
        },
        {
          "output_type": "display_data",
          "data": {
            "text/plain": [
              "<Figure size 400x400 with 1 Axes>"
            ],
            "image/png": "[encoded data removed]"
          },
          "metadata": {}
        }
      ]
    },
    {
      "cell_type": "markdown",
      "source": [
        "## **Splitting the dataset**\n",
        "\n",
        "Since we are convinced that we have our dataset, which is input output pair, we can now split it into:\n",
        "* $train$ - for training the model parameters\n",
        "* $val$ - for validating the model hyperparameters, and\n",
        "* $test$ - for testing model performance\n",
        "\n",
        "Lucky enough, we do not have to worry about the splitting because the data has been split apriori. You might have noticed this during downloading stage, the progress bars. We only need to indicate the $split$ argument in the `EuroSAT` function as follows:"
      ],
      "metadata": {
        "id": "rec_CFkFXUPc"
      }
    },
    {
      "cell_type": "code",
      "source": [
        "train_dataset = EuroSAT(path, split = 'train')\n",
        "val_dataset = EuroSAT(path, split = 'val')\n",
        "test_dataset = EuroSAT(path, split = 'test')"
      ],
      "metadata": {
        "id": "G6D-2lSvX54d"
      },
      "execution_count": 12,
      "outputs": []
    },
    {
      "cell_type": "code",
      "source": [
        "# Confirm the number of images in each dataset.\n",
        "\n",
        "print(f\"The length of train dataset is: {len(train_dataset)}.\")\n",
        "print(f\"The length of val dataset is: {len(val_dataset)}.\")\n",
        "print(f\"The length of test dataset is: {len(test_dataset)}.\")"
      ],
      "metadata": {
        "colab": {
          "base_uri": "https://localhost:8080/"
        },
        "id": "6Z-b6I6T22fn",
        "outputId": "9b933459-4887-453c-d791-5ed15f8bdada"
      },
      "execution_count": 19,
      "outputs": [
        {
          "output_type": "stream",
          "name": "stdout",
          "text": [
            "The length of train dataset is: 16200.\n",
            "The length of val dataset is: 5400.\n",
            "The length of test dataset is: 5400.\n"
          ]
        }
      ]
    },
    {
      "cell_type": "markdown",
      "source": [
        "This is quite a lot of data to train model on. I will therefore only take random 10% of each for this demo."
      ],
      "metadata": {
        "id": "eBrz4PWOO7Ew"
      }
    },
    {
      "cell_type": "code",
      "source": [
        "# Define the sample sizes (10% of each dataset)\n",
        "train_size = 1620\n",
        "val_size = 540\n",
        "test_size = 540\n",
        "\n",
        "# Create subsets by randomly sampling indices\n",
        "train_indices = random.sample(range(len(train_dataset)), train_size)\n",
        "val_indices = random.sample(range(len(val_dataset)), val_size)\n",
        "test_indices = random.sample(range(len(test_dataset)), test_size)\n",
        "\n",
        "# Create Subset datasets\n",
        "train_subset = Subset(train_dataset, train_indices)\n",
        "val_subset = Subset(val_dataset, val_indices)\n",
        "test_subset = Subset(test_dataset, test_indices)\n",
        "\n",
        "# Create DataLoaders for the subsets\n",
        "train_dataloader = DataLoader(dataset=train_subset, batch_size=batch_size, shuffle=True)\n",
        "val_dataloader = DataLoader(dataset=val_subset, batch_size=batch_size, shuffle=False)\n",
        "test_dataloader = DataLoader(dataset=test_subset, batch_size=batch_size, shuffle=False)"
      ],
      "metadata": {
        "id": "LwJxnHF8LuJq"
      },
      "execution_count": 60,
      "outputs": []
    },
    {
      "cell_type": "code",
      "source": [
        "len(train_subset) # Now we have small data we can train within a few minutes"
      ],
      "metadata": {
        "colab": {
          "base_uri": "https://localhost:8080/"
        },
        "id": "fmWmPxLmMH9F",
        "outputId": "9da9d4b7-9c7c-4e60-c646-1c3059ac4737"
      },
      "execution_count": 76,
      "outputs": [
        {
          "output_type": "execute_result",
          "data": {
            "text/plain": [
              "1620"
            ]
          },
          "metadata": {},
          "execution_count": 76
        }
      ]
    },
    {
      "cell_type": "markdown",
      "source": [
        "## **Data Laoding**\n",
        "To train our model, validate and test, we need to load data from directory to it. Normally, we work with huge amount of data. Therefore, normally, we cannot load all the data into the RAM of our computer and train the model on it. Accordingly, we need a system which is capable of loading the data in mini-batches so that at every instance, only a few images are present in the RAM for training. To do this, we depend on **DataLoaders**. The only decision we have to make here is how many images we want to load in the RAM at a time, a value called $batch size$."
      ],
      "metadata": {
        "id": "y93JBNAmYh9O"
      }
    },
    {
      "cell_type": "code",
      "source": [
        "batch_size = 128 # Here I chose 128\n",
        "# Run the three lines of code below if you want to train the model on full dataset.\n",
        "\n",
        "# train_dataloader = DataLoader(dataset = train_dataset, batch_size = batch_size, shuffle=True)\n",
        "# val_dataloader = DataLoader(dataset = val_dataset, batch_size = batch_size, shuffle=False)\n",
        "# test_dataloader = DataLoader(dataset = test_dataset, batch_size = batch_size, shuffle=False)"
      ],
      "metadata": {
        "id": "XHGV-2qCZJgR"
      },
      "execution_count": 44,
      "outputs": []
    },
    {
      "cell_type": "markdown",
      "source": [
        "At this point, it is important to verify that the data loaders are working as expected. That is, they are able to bring data from specified directory and avail them ready for model building. Let us start with _train_dataloader_."
      ],
      "metadata": {
        "id": "Dk_FFONmZ6VZ"
      }
    },
    {
      "cell_type": "code",
      "source": [
        "for batch in train_dataloader:\n",
        "  print(batch.keys()) # Confirm that both images and labels are paired.\n",
        "  image = batch[\"image\"]\n",
        "  label = batch[\"label\"]\n",
        "  print(f\"Shape of the image is: {image.shape}\") # We can see ([128, 13, 64, 64])\n",
        "  print(f\"Shape of the label is: {label.shape}\") # We can see ([128])\n",
        "  break"
      ],
      "metadata": {
        "colab": {
          "base_uri": "https://localhost:8080/"
        },
        "id": "5xjG-vjddTFq",
        "outputId": "1a332157-0b25-4a7b-c72c-2a44699fa2a7"
      },
      "execution_count": 61,
      "outputs": [
        {
          "output_type": "stream",
          "name": "stdout",
          "text": [
            "dict_keys(['image', 'label'])\n",
            "Shape of the image is: torch.Size([128, 13, 64, 64])\n",
            "Shape of the label is: torch.Size([128])\n"
          ]
        }
      ]
    },
    {
      "cell_type": "markdown",
      "source": [
        "We notice that in each batch dictionary, there is **image** and **label** keys. Each batch has 128 images, each with 13 channels/bands, and 64 * 64 in height and width dimensions.\n",
        "On the other hand, each batch has 128 labels corresponding to each of the 128 images. To expound on the labels, they are as follows:\n",
        "* 0 == Annual crop\n",
        "* 1 == Forest\n",
        "* 2 == Herbaceous vegetation\n",
        "* 3 == Highway\n",
        "* 4 == Industrial building\n",
        "* 5 == Pasture\n",
        "* 6 == Permanent crop\n",
        "* 7 == Residential building\n",
        "* 8 == River\n",
        "* 9 == Sea or Lake\n",
        "\n",
        "Now we do the same for the _val_ and _test_ sets."
      ],
      "metadata": {
        "id": "yUdQkKg1d9gZ"
      }
    },
    {
      "cell_type": "code",
      "source": [
        "for batch in val_dataloader:\n",
        "  print(batch.keys())\n",
        "  image = batch[\"image\"]\n",
        "  label = batch[\"label\"]\n",
        "  print(f\"Shape of the image is: {image.shape}\")\n",
        "  print(f\"Shape of the label is: {label.shape}\")\n",
        "  break"
      ],
      "metadata": {
        "colab": {
          "base_uri": "https://localhost:8080/"
        },
        "id": "xKTCl7pTeUuD",
        "outputId": "117ed0eb-5c1b-4835-b765-2862f081a57b"
      },
      "execution_count": 62,
      "outputs": [
        {
          "output_type": "stream",
          "name": "stdout",
          "text": [
            "dict_keys(['image', 'label'])\n",
            "Shape of the image is: torch.Size([128, 13, 64, 64])\n",
            "Shape of the label is: torch.Size([128])\n"
          ]
        }
      ]
    },
    {
      "cell_type": "code",
      "source": [
        "for batch in test_dataloader:\n",
        "  print(batch.keys())\n",
        "  image = batch[\"image\"]\n",
        "  label = batch[\"label\"]\n",
        "  print(f\"Shape of the image is: {image.shape}\")\n",
        "  print(f\"Shape of the label is: {label.shape}\")\n",
        "  break"
      ],
      "metadata": {
        "colab": {
          "base_uri": "https://localhost:8080/"
        },
        "id": "y7BZgsXHfyjA",
        "outputId": "35eeeefd-aa4c-4e64-9b66-5f05246c992c"
      },
      "execution_count": 63,
      "outputs": [
        {
          "output_type": "stream",
          "name": "stdout",
          "text": [
            "dict_keys(['image', 'label'])\n",
            "Shape of the image is: torch.Size([128, 13, 64, 64])\n",
            "Shape of the label is: torch.Size([128])\n"
          ]
        }
      ]
    },
    {
      "cell_type": "markdown",
      "source": [
        "## **Transforming datasets**\n",
        "\n",
        "From the raw data that is loaded in mini-batch by the dataloaders, one may need to do a number of transformations/augmentations. The transformations are nowmally divided into two:\n",
        "1. Preprocessing - This is meant to make ML-ready data. For example, normalizing the values.\n",
        "2. Augmentation - Meant to inflate the size of data, for example, rotation and flipping.\n",
        "\n",
        "These can be implemented as follows:"
      ],
      "metadata": {
        "id": "Ov-WIT2YgZ5p"
      }
    },
    {
      "cell_type": "code",
      "source": [
        "means = []\n",
        "stds = []\n",
        "\n",
        "# Iterate over the DataLoader\n",
        "for batch in train_dataloader:\n",
        "    images = batch['image']  # Get images\n",
        "    means.append(images.mean(dim=(0, 2, 3)))  # Mean across batch, height, and width\n",
        "    stds.append(images.std(dim=(0, 2, 3)))  # Standard deviation across batch, height, and width\n",
        "\n",
        "# Convert lists to tensors and compute the overall mean and std\n",
        "mean_per_band = torch.stack(means).mean(dim=0)\n",
        "std_per_band = torch.stack(stds).mean(dim=0)\n",
        "\n",
        "print(\"Mean per band:\", mean_per_band)\n",
        "print(\"Standard deviation per band:\", std_per_band)"
      ],
      "metadata": {
        "id": "MPEhBVcemQkt"
      },
      "execution_count": null,
      "outputs": []
    },
    {
      "cell_type": "code",
      "source": [
        "# The means and standard deviations below, I obtained from full dataset.\n",
        "preprocess = K.Normalize(mean = [1354.4692, 1118.3010, 1042.9586,  947.6596, 1199.4612, 1999.7946, 2369.2322,\n",
        "                                 2296.8015,  732.0518,   12.1152, 1818.9281, 1118.9769, 2594.1172],\n",
        "                         std = [244.1971,  331.4640,  393.4827,  591.6816,  564.2270,  857.7773, 1082.3331,\n",
        "                                1114.0242,  402.8415,    4.5873,  998.6683,  758.6846, 1226.5707])"
      ],
      "metadata": {
        "id": "Ln_CuBLcgeN1"
      },
      "execution_count": 65,
      "outputs": []
    },
    {
      "cell_type": "markdown",
      "source": [
        "On the other hand, for augmentation, we can have one or more in a sequence as follows:"
      ],
      "metadata": {
        "id": "tODkWLhOmbym"
      }
    },
    {
      "cell_type": "code",
      "source": [
        "augment = K.ImageSequential(K.RandomHorizontalFlip(),\n",
        "                            K.RandomVerticalFlip())"
      ],
      "metadata": {
        "id": "Me7fuThulMUD"
      },
      "execution_count": 66,
      "outputs": []
    },
    {
      "cell_type": "markdown",
      "source": [
        "## **Model Building**\n",
        "\n",
        "Once we have appropriate data loaders bringing in data and the transformations acting on the loaded datasets, it is time to build the model. There exists a lot of pretrained models which we can work with. In this case, we will use `restnet18` and its associated weights relevant for sentinel2 dataset we are working with."
      ],
      "metadata": {
        "id": "19M0t84dntmz"
      }
    },
    {
      "cell_type": "code",
      "source": [
        "model = resnet18(ResNet18_Weights.SENTINEL2_ALL_MOCO)"
      ],
      "metadata": {
        "id": "mo7cjq6MmvZp"
      },
      "execution_count": 67,
      "outputs": []
    },
    {
      "cell_type": "markdown",
      "source": [
        "### **Calculating loss function**\n",
        "\n",
        "In deep learning, the dataset is normally exposed to the model several times. Each time a model sees all data is called $epoch$. After the model has learnt through the data, we can determine how far away from actual labels, $y$, the predictions $\\hat{y}$ are. This is normally achieved through a $loss$ $function$. The purpose of loss function is to aim at reducing the difference between actual labels and predicted labels after every training run, $epoch$."
      ],
      "metadata": {
        "id": "C9udOH7FpOKb"
      }
    },
    {
      "cell_type": "code",
      "source": [
        "loss_fn = nn.CrossEntropyLoss()"
      ],
      "metadata": {
        "id": "wygEAI1bpNKF"
      },
      "execution_count": 68,
      "outputs": []
    },
    {
      "cell_type": "markdown",
      "source": [
        "## **Optimizers**\n",
        "\n",
        "After calculating the loss, difference between observed and predicted output, minimizing the loss involves taking a small step, $learning$ $rate$, in the direction of negative gradient ($backpropagation$). This is done one image or mini-batch at a time; stochastic gradient descent (SGD) as follows."
      ],
      "metadata": {
        "id": "TutwnyTz2eMH"
      }
    },
    {
      "cell_type": "code",
      "source": [
        "optimizer = optim.SGD(model.parameters(), lr = 1e-2)"
      ],
      "metadata": {
        "id": "ppdEWarYswR1"
      },
      "execution_count": 69,
      "outputs": []
    },
    {
      "cell_type": "markdown",
      "source": [
        "## **Moving data and model to device**\n",
        "\n",
        "Normally, the linear algebraic calculations involved in deep learning are better handled on the GPU. So, both data and model need to be transferred from CPU to GPU to enable efficient training. This can be achieved by:"
      ],
      "metadata": {
        "id": "_28iSGx03tKd"
      }
    },
    {
      "cell_type": "code",
      "source": [
        "device = 'cuda' if torch.cuda.is_available() else 'cpu'\n",
        "model = model.to(device)"
      ],
      "metadata": {
        "id": "vqnI3w6q3eoP"
      },
      "execution_count": 70,
      "outputs": []
    },
    {
      "cell_type": "markdown",
      "source": [
        "We can check what our device is here:"
      ],
      "metadata": {
        "id": "wuW2kySU4Jxs"
      }
    },
    {
      "cell_type": "code",
      "source": [
        "device # Returns 'cpu' because we did not yet set it to GPU in the runtime."
      ],
      "metadata": {
        "colab": {
          "base_uri": "https://localhost:8080/",
          "height": 36
        },
        "id": "MuDngAka4NVs",
        "outputId": "9379eddf-a34a-42e4-c65c-5fbb6899beb5"
      },
      "execution_count": 71,
      "outputs": [
        {
          "output_type": "execute_result",
          "data": {
            "text/plain": [
              "'cpu'"
            ],
            "application/vnd.google.colaboratory.intrinsic+json": {
              "type": "string"
            }
          },
          "metadata": {},
          "execution_count": 71
        }
      ]
    },
    {
      "cell_type": "markdown",
      "source": [
        "## **Training the model**\n",
        "\n",
        "This involves setting the model to train mode then iterating over the mini-batches in the dataset. During the forward pass, we ask the model to predict y given x. During backward pass, we do backpropagation in which we update model weights. This can be achieved as follows:"
      ],
      "metadata": {
        "id": "15GyGoDr4asU"
      }
    },
    {
      "cell_type": "code",
      "source": [
        "def train(dataloader):\n",
        "  model.train()\n",
        "  total_loss = 0\n",
        "  for batch in dataloader:\n",
        "    x = batch['image'].to(device)\n",
        "    y = batch['label'].to(device)\n",
        "\n",
        "    # Forward pass\n",
        "    y_hat = model(x)\n",
        "    loss = loss_fn(y_hat, y)\n",
        "    total_loss += loss.item()\n",
        "\n",
        "    # Backward pass\n",
        "    loss.backward()\n",
        "    optimizer.step()\n",
        "    optimizer.zero_grad()\n",
        "\n",
        "  print(f\"Loss: {total_loss:.2%}\")"
      ],
      "metadata": {
        "id": "UXNsZCTf4N4t"
      },
      "execution_count": 72,
      "outputs": []
    },
    {
      "cell_type": "markdown",
      "source": [
        "## **Evaluating the model**\n",
        "\n",
        "After training a model, we should evaluate it on unseen data to see how it performs. This involves setting the model to evaluation mode then iterating through the minibatches. We do not engage backpropagation here but compute the number of correctly classified images."
      ],
      "metadata": {
        "id": "ktfSXkF36pHj"
      }
    },
    {
      "cell_type": "code",
      "source": [
        "def evaluate(dataloader):\n",
        "  model.eval()\n",
        "  correct = 0.0\n",
        "  with torch.no_grad():\n",
        "    for batch in dataloader:\n",
        "      x = batch['image'].to(device)\n",
        "      y = batch['label'].to(device)\n",
        "\n",
        "      # Forward pass\n",
        "      y_hat = model(x)\n",
        "      correct += (y_hat.argmax(1) == y).float().sum().item()\n",
        "\n",
        "  correct /= len(dataloader.dataset)\n",
        "  print(f\"Accuracy: {correct:.0%}\")"
      ],
      "metadata": {
        "id": "JNj0Jzjb6F70"
      },
      "execution_count": 73,
      "outputs": []
    },
    {
      "cell_type": "markdown",
      "source": [
        "## **Running for x epochs**\n",
        "\n",
        "Now we need to run this several times so that our model can learn and improve over time. Say, we want to run it 20 times. This means we set epochs to 20 as follows:"
      ],
      "metadata": {
        "id": "dgPXtCG18Fng"
      }
    },
    {
      "cell_type": "code",
      "source": [
        "epochs = 20"
      ],
      "metadata": {
        "id": "XQa049L877wp"
      },
      "execution_count": 74,
      "outputs": []
    },
    {
      "cell_type": "markdown",
      "source": [
        "Normally, we would set such number of epochs that ensures that we see reduction in loss and increase in accuracy. Better still, we want to train the model until the validation accuracy starts to plateau or even decrease. At that point the model shall have sufficiently learnt."
      ],
      "metadata": {
        "id": "YnnRt2Xb8kp_"
      }
    },
    {
      "cell_type": "code",
      "source": [
        "for epoch in range(epochs):\n",
        "  print(f\"Epoch: {epoch}\")\n",
        "  train(train_dataloader)\n",
        "  evaluate(val_dataloader)"
      ],
      "metadata": {
        "colab": {
          "base_uri": "https://localhost:8080/"
        },
        "id": "8m9WEUIV8Zgr",
        "outputId": "be790722-e0d8-4e83-fc29-f8c472d4b9a4"
      },
      "execution_count": 75,
      "outputs": [
        {
          "output_type": "stream",
          "name": "stdout",
          "text": [
            "Epoch: 0\n",
            "Loss: 8944.77%\n",
            "Accuracy: 1%\n",
            "Epoch: 1\n",
            "Loss: 8870.59%\n",
            "Accuracy: 15%\n",
            "Epoch: 2\n",
            "Loss: 8786.26%\n",
            "Accuracy: 28%\n",
            "Epoch: 3\n",
            "Loss: 8677.12%\n",
            "Accuracy: 43%\n",
            "Epoch: 4\n",
            "Loss: 8553.00%\n",
            "Accuracy: 56%\n",
            "Epoch: 5\n",
            "Loss: 8398.52%\n",
            "Accuracy: 63%\n",
            "Epoch: 6\n",
            "Loss: 8198.41%\n",
            "Accuracy: 65%\n",
            "Epoch: 7\n",
            "Loss: 7973.97%\n",
            "Accuracy: 67%\n",
            "Epoch: 8\n",
            "Loss: 7734.79%\n",
            "Accuracy: 70%\n",
            "Epoch: 9\n",
            "Loss: 7497.45%\n",
            "Accuracy: 71%\n",
            "Epoch: 10\n",
            "Loss: 7282.25%\n",
            "Accuracy: 71%\n",
            "Epoch: 11\n",
            "Loss: 7063.66%\n",
            "Accuracy: 71%\n",
            "Epoch: 12\n",
            "Loss: 6844.79%\n",
            "Accuracy: 72%\n",
            "Epoch: 13\n",
            "Loss: 6612.44%\n",
            "Accuracy: 72%\n",
            "Epoch: 14\n",
            "Loss: 6378.79%\n",
            "Accuracy: 72%\n",
            "Epoch: 15\n",
            "Loss: 6090.93%\n",
            "Accuracy: 73%\n",
            "Epoch: 16\n",
            "Loss: 5811.94%\n",
            "Accuracy: 72%\n",
            "Epoch: 17\n",
            "Loss: 5521.81%\n",
            "Accuracy: 73%\n",
            "Epoch: 18\n",
            "Loss: 5187.82%\n",
            "Accuracy: 74%\n",
            "Epoch: 19\n",
            "Loss: 4810.84%\n",
            "Accuracy: 75%\n"
          ]
        }
      ]
    },
    {
      "cell_type": "markdown",
      "source": [
        "These are of course horrible performance, however, suited for this simple introductory workflow."
      ],
      "metadata": {
        "id": "jWfnNM7LDYnH"
      }
    },
    {
      "cell_type": "code",
      "source": [
        "evaluate(test_dataloader)"
      ],
      "metadata": {
        "colab": {
          "base_uri": "https://localhost:8080/"
        },
        "id": "rDa0Q8Td9IJn",
        "outputId": "70d71df7-7ef6-41de-9a28-253d26e3ac91"
      },
      "execution_count": 78,
      "outputs": [
        {
          "output_type": "stream",
          "name": "stdout",
          "text": [
            "Accuracy: 72%\n"
          ]
        }
      ]
    },
    {
      "cell_type": "markdown",
      "source": [
        "## **References**\n",
        "[PyTorch: Learn the Basics](https://pytorch.org/tutorials/beginner/basics/intro.html)\n",
        "\n",
        "[Deep Learning with PyTorch: A 60 Minute Blitz](https://pytorch.org/tutorials/beginner/deep_learning_60min_blitz.html)\n",
        "\n",
        "[Transfer learning for Computer Vision](https://pytorch.org/tutorials/beginner/transfer_learning_tutorial.html)"
      ],
      "metadata": {
        "id": "JlNtfup7CcJK"
      }
    },
    {
      "cell_type": "markdown",
      "source": [
        "# **Miscellaneous Using U-Net**"
      ],
      "metadata": {
        "id": "OqjhTFeySfPh"
      }
    },
    {
      "cell_type": "code",
      "source": [
        "%pip install torchseg\n",
        "import torchseg\n",
        "from tqdm import tqdm"
      ],
      "metadata": {
        "id": "m8jXP43qSzTd"
      },
      "execution_count": null,
      "outputs": []
    },
    {
      "cell_type": "code",
      "source": [
        "model2 = torchseg.Unet(\n",
        "    encoder_name = \"resnet18\",\n",
        "    encoder_weights = False,\n",
        "    in_channels = 13,\n",
        "    classes = 10\n",
        ")"
      ],
      "metadata": {
        "id": "M8i7pRAVSlcb"
      },
      "execution_count": 87,
      "outputs": []
    },
    {
      "cell_type": "code",
      "source": [
        "device = torch.device(\"cuda\" if torch.cuda.is_available() else \"cpu\")\n",
        "model2.to(device)"
      ],
      "metadata": {
        "id": "Vk2O2l68TAfI"
      },
      "execution_count": null,
      "outputs": []
    },
    {
      "cell_type": "code",
      "source": [
        "# Define the loss function and optimizer\n",
        "\n",
        "criterion = nn.CrossEntropyLoss(ignore_index = -1)\n",
        "optimizer = torch.optim.Adam(model.parameters(), lr = 0.001)"
      ],
      "metadata": {
        "id": "IGTkd6cHTAbk"
      },
      "execution_count": 89,
      "outputs": []
    },
    {
      "cell_type": "code",
      "source": [
        "# Training loop\n",
        "metrics = {\"loss\": [], \"accuracy\": []}\n",
        "num_epochs = 50"
      ],
      "metadata": {
        "id": "zqM5PdFXTAZV"
      },
      "execution_count": 90,
      "outputs": []
    },
    {
      "cell_type": "code",
      "source": [
        "for epoch in range(num_epochs):\n",
        "  model2.train()\n",
        "  epoch_loss = 0.0\n",
        "  total_correct = 0\n",
        "  total_pixels = 0\n",
        "\n",
        "  with tqdm(train_dataloader, desc = f\"Epoch {epoch + 1} / {num_epochs}\") as pbar:\n",
        "    for batch in pbar:\n",
        "      images = batch[\"image\"][:, :13, :, :].to(device)\n",
        "      masks = batch[\"label\"].to(device)\n",
        "\n",
        "      # Forward pass\n",
        "      outputs = model(images)\n",
        "      loss = criterion(outputs, masks.long())\n",
        "      epoch_loss += loss.item()\n",
        "\n",
        "      # Backpropagation\n",
        "      optimizer.zero_grad()\n",
        "      loss.backward()\n",
        "      optimizer.step()\n",
        "\n",
        "      # Calculate accuracy\n",
        "      preds = torch.argmax(outputs, dim = 1)\n",
        "      total_correct += (preds == masks).sum().item()\n",
        "      total_pixels += masks.numel()\n",
        "\n",
        "      pbar.set_postfix(loss = loss.item())\n",
        "\n",
        "  epoch_accuracy = total_correct / total_pixels * 100\n",
        "  metrics[\"loss\"].append(epoch_loss)\n",
        "  metrics[\"accuracy\"].append(epoch_accuracy)\n",
        "\n",
        "  print(f\"Epoch [{epoch + 1}/{num_epochs}], Loss: {epoch_loss:.4f}, Accuracy: {epoch_accuracy:.2f}%\")\n",
        "\n",
        "  # Save training metrics\n",
        "  #with open(\"/content/training_metrics.json\", \"w\") as f:\n",
        "  #  json.dump(metrics, f)\n",
        "\n",
        "  print(\"Training metrics saved to '/content/training_metrics.json\")"
      ],
      "metadata": {
        "colab": {
          "base_uri": "https://localhost:8080/"
        },
        "id": "UnpeZIOSTPgt",
        "outputId": "642c8dbd-0a9b-43ff-9e2b-d4532b167fb9"
      },
      "execution_count": 96,
      "outputs": [
        {
          "output_type": "stream",
          "name": "stderr",
          "text": [
            "Epoch 1 / 50: 100%|██████████| 13/13 [01:07<00:00,  5.20s/it, loss=3.56]\n"
          ]
        },
        {
          "output_type": "stream",
          "name": "stdout",
          "text": [
            "Epoch [1/50], Loss: 445.1351, Accuracy: 17.16%\n",
            "Training metrics saved to '/content/training_metrics.json\n"
          ]
        },
        {
          "output_type": "stream",
          "name": "stderr",
          "text": [
            "Epoch 2 / 50: 100%|██████████| 13/13 [00:59<00:00,  4.54s/it, loss=2.33]\n"
          ]
        },
        {
          "output_type": "stream",
          "name": "stdout",
          "text": [
            "Epoch [2/50], Loss: 32.8129, Accuracy: 9.75%\n",
            "Training metrics saved to '/content/training_metrics.json\n"
          ]
        },
        {
          "output_type": "stream",
          "name": "stderr",
          "text": [
            "Epoch 3 / 50: 100%|██████████| 13/13 [00:59<00:00,  4.56s/it, loss=2.31]\n"
          ]
        },
        {
          "output_type": "stream",
          "name": "stdout",
          "text": [
            "Epoch [3/50], Loss: 30.4854, Accuracy: 13.95%\n",
            "Training metrics saved to '/content/training_metrics.json\n"
          ]
        },
        {
          "output_type": "stream",
          "name": "stderr",
          "text": [
            "Epoch 4 / 50: 100%|██████████| 13/13 [00:58<00:00,  4.53s/it, loss=1.9]\n"
          ]
        },
        {
          "output_type": "stream",
          "name": "stdout",
          "text": [
            "Epoch [4/50], Loss: 27.6789, Accuracy: 21.23%\n",
            "Training metrics saved to '/content/training_metrics.json\n"
          ]
        },
        {
          "output_type": "stream",
          "name": "stderr",
          "text": [
            "Epoch 5 / 50: 100%|██████████| 13/13 [00:59<00:00,  4.55s/it, loss=1.88]\n"
          ]
        },
        {
          "output_type": "stream",
          "name": "stdout",
          "text": [
            "Epoch [5/50], Loss: 24.3523, Accuracy: 30.12%\n",
            "Training metrics saved to '/content/training_metrics.json\n"
          ]
        },
        {
          "output_type": "stream",
          "name": "stderr",
          "text": [
            "Epoch 6 / 50: 100%|██████████| 13/13 [00:59<00:00,  4.60s/it, loss=2.02]\n"
          ]
        },
        {
          "output_type": "stream",
          "name": "stdout",
          "text": [
            "Epoch [6/50], Loss: 25.3460, Accuracy: 26.91%\n",
            "Training metrics saved to '/content/training_metrics.json\n"
          ]
        },
        {
          "output_type": "stream",
          "name": "stderr",
          "text": [
            "Epoch 7 / 50: 100%|██████████| 13/13 [00:58<00:00,  4.49s/it, loss=1.6]\n"
          ]
        },
        {
          "output_type": "stream",
          "name": "stdout",
          "text": [
            "Epoch [7/50], Loss: 23.3344, Accuracy: 34.14%\n",
            "Training metrics saved to '/content/training_metrics.json\n"
          ]
        },
        {
          "output_type": "stream",
          "name": "stderr",
          "text": [
            "Epoch 8 / 50: 100%|██████████| 13/13 [00:59<00:00,  4.61s/it, loss=1.91]\n"
          ]
        },
        {
          "output_type": "stream",
          "name": "stdout",
          "text": [
            "Epoch [8/50], Loss: 21.9693, Accuracy: 38.83%\n",
            "Training metrics saved to '/content/training_metrics.json\n"
          ]
        },
        {
          "output_type": "stream",
          "name": "stderr",
          "text": [
            "Epoch 9 / 50: 100%|██████████| 13/13 [00:59<00:00,  4.56s/it, loss=1.52]\n"
          ]
        },
        {
          "output_type": "stream",
          "name": "stdout",
          "text": [
            "Epoch [9/50], Loss: 20.9061, Accuracy: 40.19%\n",
            "Training metrics saved to '/content/training_metrics.json\n"
          ]
        },
        {
          "output_type": "stream",
          "name": "stderr",
          "text": [
            "Epoch 10 / 50: 100%|██████████| 13/13 [00:57<00:00,  4.44s/it, loss=1.45]\n"
          ]
        },
        {
          "output_type": "stream",
          "name": "stdout",
          "text": [
            "Epoch [10/50], Loss: 19.4004, Accuracy: 44.26%\n",
            "Training metrics saved to '/content/training_metrics.json\n"
          ]
        },
        {
          "output_type": "stream",
          "name": "stderr",
          "text": [
            "Epoch 11 / 50: 100%|██████████| 13/13 [00:59<00:00,  4.54s/it, loss=1.42]\n"
          ]
        },
        {
          "output_type": "stream",
          "name": "stdout",
          "text": [
            "Epoch [11/50], Loss: 17.6674, Accuracy: 49.94%\n",
            "Training metrics saved to '/content/training_metrics.json\n"
          ]
        },
        {
          "output_type": "stream",
          "name": "stderr",
          "text": [
            "Epoch 12 / 50: 100%|██████████| 13/13 [00:57<00:00,  4.45s/it, loss=1.16]\n"
          ]
        },
        {
          "output_type": "stream",
          "name": "stdout",
          "text": [
            "Epoch [12/50], Loss: 16.2644, Accuracy: 53.77%\n",
            "Training metrics saved to '/content/training_metrics.json\n"
          ]
        },
        {
          "output_type": "stream",
          "name": "stderr",
          "text": [
            "Epoch 13 / 50: 100%|██████████| 13/13 [00:58<00:00,  4.51s/it, loss=1.21]\n"
          ]
        },
        {
          "output_type": "stream",
          "name": "stdout",
          "text": [
            "Epoch [13/50], Loss: 15.0645, Accuracy: 54.01%\n",
            "Training metrics saved to '/content/training_metrics.json\n"
          ]
        },
        {
          "output_type": "stream",
          "name": "stderr",
          "text": [
            "Epoch 14 / 50: 100%|██████████| 13/13 [00:57<00:00,  4.44s/it, loss=1.04]\n"
          ]
        },
        {
          "output_type": "stream",
          "name": "stdout",
          "text": [
            "Epoch [14/50], Loss: 14.6998, Accuracy: 55.06%\n",
            "Training metrics saved to '/content/training_metrics.json\n"
          ]
        },
        {
          "output_type": "stream",
          "name": "stderr",
          "text": [
            "Epoch 15 / 50: 100%|██████████| 13/13 [00:59<00:00,  4.57s/it, loss=1.09]\n"
          ]
        },
        {
          "output_type": "stream",
          "name": "stdout",
          "text": [
            "Epoch [15/50], Loss: 14.8493, Accuracy: 56.36%\n",
            "Training metrics saved to '/content/training_metrics.json\n"
          ]
        },
        {
          "output_type": "stream",
          "name": "stderr",
          "text": [
            "Epoch 16 / 50: 100%|██████████| 13/13 [00:57<00:00,  4.46s/it, loss=1.15]\n"
          ]
        },
        {
          "output_type": "stream",
          "name": "stdout",
          "text": [
            "Epoch [16/50], Loss: 13.8874, Accuracy: 58.33%\n",
            "Training metrics saved to '/content/training_metrics.json\n"
          ]
        },
        {
          "output_type": "stream",
          "name": "stderr",
          "text": [
            "Epoch 17 / 50: 100%|██████████| 13/13 [00:58<00:00,  4.52s/it, loss=0.937]\n"
          ]
        },
        {
          "output_type": "stream",
          "name": "stdout",
          "text": [
            "Epoch [17/50], Loss: 12.8995, Accuracy: 61.36%\n",
            "Training metrics saved to '/content/training_metrics.json\n"
          ]
        },
        {
          "output_type": "stream",
          "name": "stderr",
          "text": [
            "Epoch 18 / 50: 100%|██████████| 13/13 [00:57<00:00,  4.46s/it, loss=0.836]\n"
          ]
        },
        {
          "output_type": "stream",
          "name": "stdout",
          "text": [
            "Epoch [18/50], Loss: 12.5587, Accuracy: 61.60%\n",
            "Training metrics saved to '/content/training_metrics.json\n"
          ]
        },
        {
          "output_type": "stream",
          "name": "stderr",
          "text": [
            "Epoch 19 / 50: 100%|██████████| 13/13 [00:58<00:00,  4.51s/it, loss=1.07]\n"
          ]
        },
        {
          "output_type": "stream",
          "name": "stdout",
          "text": [
            "Epoch [19/50], Loss: 13.3060, Accuracy: 60.25%\n",
            "Training metrics saved to '/content/training_metrics.json\n"
          ]
        },
        {
          "output_type": "stream",
          "name": "stderr",
          "text": [
            "Epoch 20 / 50: 100%|██████████| 13/13 [00:59<00:00,  4.57s/it, loss=1.13]\n"
          ]
        },
        {
          "output_type": "stream",
          "name": "stdout",
          "text": [
            "Epoch [20/50], Loss: 12.7898, Accuracy: 62.72%\n",
            "Training metrics saved to '/content/training_metrics.json\n"
          ]
        },
        {
          "output_type": "stream",
          "name": "stderr",
          "text": [
            "Epoch 21 / 50: 100%|██████████| 13/13 [00:57<00:00,  4.45s/it, loss=0.981]\n"
          ]
        },
        {
          "output_type": "stream",
          "name": "stdout",
          "text": [
            "Epoch [21/50], Loss: 12.7088, Accuracy: 62.04%\n",
            "Training metrics saved to '/content/training_metrics.json\n"
          ]
        },
        {
          "output_type": "stream",
          "name": "stderr",
          "text": [
            "Epoch 22 / 50: 100%|██████████| 13/13 [00:59<00:00,  4.54s/it, loss=0.934]\n"
          ]
        },
        {
          "output_type": "stream",
          "name": "stdout",
          "text": [
            "Epoch [22/50], Loss: 11.4176, Accuracy: 65.80%\n",
            "Training metrics saved to '/content/training_metrics.json\n"
          ]
        },
        {
          "output_type": "stream",
          "name": "stderr",
          "text": [
            "Epoch 23 / 50: 100%|██████████| 13/13 [00:58<00:00,  4.48s/it, loss=0.861]\n"
          ]
        },
        {
          "output_type": "stream",
          "name": "stdout",
          "text": [
            "Epoch [23/50], Loss: 11.0255, Accuracy: 66.85%\n",
            "Training metrics saved to '/content/training_metrics.json\n"
          ]
        },
        {
          "output_type": "stream",
          "name": "stderr",
          "text": [
            "Epoch 24 / 50: 100%|██████████| 13/13 [00:59<00:00,  4.56s/it, loss=0.864]\n"
          ]
        },
        {
          "output_type": "stream",
          "name": "stdout",
          "text": [
            "Epoch [24/50], Loss: 10.3619, Accuracy: 68.40%\n",
            "Training metrics saved to '/content/training_metrics.json\n"
          ]
        },
        {
          "output_type": "stream",
          "name": "stderr",
          "text": [
            "Epoch 25 / 50: 100%|██████████| 13/13 [00:58<00:00,  4.54s/it, loss=0.752]\n"
          ]
        },
        {
          "output_type": "stream",
          "name": "stdout",
          "text": [
            "Epoch [25/50], Loss: 10.0712, Accuracy: 68.64%\n",
            "Training metrics saved to '/content/training_metrics.json\n"
          ]
        },
        {
          "output_type": "stream",
          "name": "stderr",
          "text": [
            "Epoch 26 / 50: 100%|██████████| 13/13 [00:58<00:00,  4.50s/it, loss=1.08]\n"
          ]
        },
        {
          "output_type": "stream",
          "name": "stdout",
          "text": [
            "Epoch [26/50], Loss: 10.2132, Accuracy: 68.95%\n",
            "Training metrics saved to '/content/training_metrics.json\n"
          ]
        },
        {
          "output_type": "stream",
          "name": "stderr",
          "text": [
            "Epoch 27 / 50: 100%|██████████| 13/13 [00:59<00:00,  4.57s/it, loss=1.27]\n"
          ]
        },
        {
          "output_type": "stream",
          "name": "stdout",
          "text": [
            "Epoch [27/50], Loss: 10.1315, Accuracy: 70.19%\n",
            "Training metrics saved to '/content/training_metrics.json\n"
          ]
        },
        {
          "output_type": "stream",
          "name": "stderr",
          "text": [
            "Epoch 28 / 50: 100%|██████████| 13/13 [00:58<00:00,  4.47s/it, loss=0.771]\n"
          ]
        },
        {
          "output_type": "stream",
          "name": "stdout",
          "text": [
            "Epoch [28/50], Loss: 11.6881, Accuracy: 65.31%\n",
            "Training metrics saved to '/content/training_metrics.json\n"
          ]
        },
        {
          "output_type": "stream",
          "name": "stderr",
          "text": [
            "Epoch 29 / 50: 100%|██████████| 13/13 [00:58<00:00,  4.51s/it, loss=0.743]\n"
          ]
        },
        {
          "output_type": "stream",
          "name": "stdout",
          "text": [
            "Epoch [29/50], Loss: 10.2243, Accuracy: 70.31%\n",
            "Training metrics saved to '/content/training_metrics.json\n"
          ]
        },
        {
          "output_type": "stream",
          "name": "stderr",
          "text": [
            "Epoch 30 / 50: 100%|██████████| 13/13 [00:58<00:00,  4.51s/it, loss=0.813]\n"
          ]
        },
        {
          "output_type": "stream",
          "name": "stdout",
          "text": [
            "Epoch [30/50], Loss: 9.9122, Accuracy: 70.43%\n",
            "Training metrics saved to '/content/training_metrics.json\n"
          ]
        },
        {
          "output_type": "stream",
          "name": "stderr",
          "text": [
            "Epoch 31 / 50: 100%|██████████| 13/13 [00:57<00:00,  4.45s/it, loss=0.765]\n"
          ]
        },
        {
          "output_type": "stream",
          "name": "stdout",
          "text": [
            "Epoch [31/50], Loss: 9.7360, Accuracy: 71.11%\n",
            "Training metrics saved to '/content/training_metrics.json\n"
          ]
        },
        {
          "output_type": "stream",
          "name": "stderr",
          "text": [
            "Epoch 32 / 50: 100%|██████████| 13/13 [01:01<00:00,  4.69s/it, loss=0.639]\n"
          ]
        },
        {
          "output_type": "stream",
          "name": "stdout",
          "text": [
            "Epoch [32/50], Loss: 9.0839, Accuracy: 72.84%\n",
            "Training metrics saved to '/content/training_metrics.json\n"
          ]
        },
        {
          "output_type": "stream",
          "name": "stderr",
          "text": [
            "Epoch 33 / 50: 100%|██████████| 13/13 [00:59<00:00,  4.55s/it, loss=0.676]\n"
          ]
        },
        {
          "output_type": "stream",
          "name": "stdout",
          "text": [
            "Epoch [33/50], Loss: 8.2971, Accuracy: 75.43%\n",
            "Training metrics saved to '/content/training_metrics.json\n"
          ]
        },
        {
          "output_type": "stream",
          "name": "stderr",
          "text": [
            "Epoch 34 / 50: 100%|██████████| 13/13 [01:00<00:00,  4.64s/it, loss=0.55]\n"
          ]
        },
        {
          "output_type": "stream",
          "name": "stdout",
          "text": [
            "Epoch [34/50], Loss: 8.4035, Accuracy: 75.56%\n",
            "Training metrics saved to '/content/training_metrics.json\n"
          ]
        },
        {
          "output_type": "stream",
          "name": "stderr",
          "text": [
            "Epoch 35 / 50: 100%|██████████| 13/13 [00:58<00:00,  4.54s/it, loss=0.501]\n"
          ]
        },
        {
          "output_type": "stream",
          "name": "stdout",
          "text": [
            "Epoch [35/50], Loss: 8.4701, Accuracy: 75.31%\n",
            "Training metrics saved to '/content/training_metrics.json\n"
          ]
        },
        {
          "output_type": "stream",
          "name": "stderr",
          "text": [
            "Epoch 36 / 50: 100%|██████████| 13/13 [00:58<00:00,  4.50s/it, loss=0.711]\n"
          ]
        },
        {
          "output_type": "stream",
          "name": "stdout",
          "text": [
            "Epoch [36/50], Loss: 7.6637, Accuracy: 78.21%\n",
            "Training metrics saved to '/content/training_metrics.json\n"
          ]
        },
        {
          "output_type": "stream",
          "name": "stderr",
          "text": [
            "Epoch 37 / 50: 100%|██████████| 13/13 [01:00<00:00,  4.63s/it, loss=0.5]\n"
          ]
        },
        {
          "output_type": "stream",
          "name": "stdout",
          "text": [
            "Epoch [37/50], Loss: 6.9443, Accuracy: 79.94%\n",
            "Training metrics saved to '/content/training_metrics.json\n"
          ]
        },
        {
          "output_type": "stream",
          "name": "stderr",
          "text": [
            "Epoch 38 / 50: 100%|██████████| 13/13 [00:59<00:00,  4.56s/it, loss=0.563]\n"
          ]
        },
        {
          "output_type": "stream",
          "name": "stdout",
          "text": [
            "Epoch [38/50], Loss: 8.8765, Accuracy: 74.07%\n",
            "Training metrics saved to '/content/training_metrics.json\n"
          ]
        },
        {
          "output_type": "stream",
          "name": "stderr",
          "text": [
            "Epoch 39 / 50: 100%|██████████| 13/13 [00:59<00:00,  4.57s/it, loss=0.484]\n"
          ]
        },
        {
          "output_type": "stream",
          "name": "stdout",
          "text": [
            "Epoch [39/50], Loss: 7.8533, Accuracy: 77.78%\n",
            "Training metrics saved to '/content/training_metrics.json\n"
          ]
        },
        {
          "output_type": "stream",
          "name": "stderr",
          "text": [
            "Epoch 40 / 50: 100%|██████████| 13/13 [00:59<00:00,  4.59s/it, loss=0.521]\n"
          ]
        },
        {
          "output_type": "stream",
          "name": "stdout",
          "text": [
            "Epoch [40/50], Loss: 7.6027, Accuracy: 76.79%\n",
            "Training metrics saved to '/content/training_metrics.json\n"
          ]
        },
        {
          "output_type": "stream",
          "name": "stderr",
          "text": [
            "Epoch 41 / 50: 100%|██████████| 13/13 [01:00<00:00,  4.63s/it, loss=0.77]\n"
          ]
        },
        {
          "output_type": "stream",
          "name": "stdout",
          "text": [
            "Epoch [41/50], Loss: 7.8518, Accuracy: 77.84%\n",
            "Training metrics saved to '/content/training_metrics.json\n"
          ]
        },
        {
          "output_type": "stream",
          "name": "stderr",
          "text": [
            "Epoch 42 / 50: 100%|██████████| 13/13 [00:59<00:00,  4.55s/it, loss=0.612]\n"
          ]
        },
        {
          "output_type": "stream",
          "name": "stdout",
          "text": [
            "Epoch [42/50], Loss: 7.1289, Accuracy: 80.31%\n",
            "Training metrics saved to '/content/training_metrics.json\n"
          ]
        },
        {
          "output_type": "stream",
          "name": "stderr",
          "text": [
            "Epoch 43 / 50: 100%|██████████| 13/13 [00:59<00:00,  4.58s/it, loss=0.47]\n"
          ]
        },
        {
          "output_type": "stream",
          "name": "stdout",
          "text": [
            "Epoch [43/50], Loss: 7.0664, Accuracy: 81.17%\n",
            "Training metrics saved to '/content/training_metrics.json\n"
          ]
        },
        {
          "output_type": "stream",
          "name": "stderr",
          "text": [
            "Epoch 44 / 50: 100%|██████████| 13/13 [00:58<00:00,  4.53s/it, loss=0.466]\n"
          ]
        },
        {
          "output_type": "stream",
          "name": "stdout",
          "text": [
            "Epoch [44/50], Loss: 6.8072, Accuracy: 81.36%\n",
            "Training metrics saved to '/content/training_metrics.json\n"
          ]
        },
        {
          "output_type": "stream",
          "name": "stderr",
          "text": [
            "Epoch 45 / 50: 100%|██████████| 13/13 [00:59<00:00,  4.61s/it, loss=0.399]\n"
          ]
        },
        {
          "output_type": "stream",
          "name": "stdout",
          "text": [
            "Epoch [45/50], Loss: 6.3024, Accuracy: 81.98%\n",
            "Training metrics saved to '/content/training_metrics.json\n"
          ]
        },
        {
          "output_type": "stream",
          "name": "stderr",
          "text": [
            "Epoch 46 / 50: 100%|██████████| 13/13 [00:59<00:00,  4.58s/it, loss=0.501]\n"
          ]
        },
        {
          "output_type": "stream",
          "name": "stdout",
          "text": [
            "Epoch [46/50], Loss: 5.8522, Accuracy: 84.75%\n",
            "Training metrics saved to '/content/training_metrics.json\n"
          ]
        },
        {
          "output_type": "stream",
          "name": "stderr",
          "text": [
            "Epoch 47 / 50: 100%|██████████| 13/13 [00:58<00:00,  4.51s/it, loss=0.488]\n"
          ]
        },
        {
          "output_type": "stream",
          "name": "stdout",
          "text": [
            "Epoch [47/50], Loss: 5.9436, Accuracy: 83.89%\n",
            "Training metrics saved to '/content/training_metrics.json\n"
          ]
        },
        {
          "output_type": "stream",
          "name": "stderr",
          "text": [
            "Epoch 48 / 50: 100%|██████████| 13/13 [00:59<00:00,  4.55s/it, loss=0.546]\n"
          ]
        },
        {
          "output_type": "stream",
          "name": "stdout",
          "text": [
            "Epoch [48/50], Loss: 6.1815, Accuracy: 82.65%\n",
            "Training metrics saved to '/content/training_metrics.json\n"
          ]
        },
        {
          "output_type": "stream",
          "name": "stderr",
          "text": [
            "Epoch 49 / 50: 100%|██████████| 13/13 [00:58<00:00,  4.48s/it, loss=0.302]\n"
          ]
        },
        {
          "output_type": "stream",
          "name": "stdout",
          "text": [
            "Epoch [49/50], Loss: 5.2246, Accuracy: 86.05%\n",
            "Training metrics saved to '/content/training_metrics.json\n"
          ]
        },
        {
          "output_type": "stream",
          "name": "stderr",
          "text": [
            "Epoch 50 / 50: 100%|██████████| 13/13 [01:00<00:00,  4.63s/it, loss=0.316]"
          ]
        },
        {
          "output_type": "stream",
          "name": "stdout",
          "text": [
            "Epoch [50/50], Loss: 5.2012, Accuracy: 85.49%\n",
            "Training metrics saved to '/content/training_metrics.json\n"
          ]
        },
        {
          "output_type": "stream",
          "name": "stderr",
          "text": [
            "\n"
          ]
        }
      ]
    }
  ]
}